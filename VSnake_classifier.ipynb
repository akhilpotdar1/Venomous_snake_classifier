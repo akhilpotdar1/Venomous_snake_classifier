{
  "nbformat": 4,
  "nbformat_minor": 0,
  "metadata": {
    "jupytext": {
      "split_at_heading": true
    },
    "kernelspec": {
      "display_name": "Python 3",
      "language": "python",
      "name": "python3"
    },
    "language_info": {
      "codemirror_mode": {
        "name": "ipython",
        "version": 3
      },
      "file_extension": ".py",
      "mimetype": "text/x-python",
      "name": "python",
      "nbconvert_exporter": "python",
      "pygments_lexer": "ipython3",
      "version": "3.7.7"
    },
    "toc": {
      "base_numbering": 1,
      "nav_menu": {},
      "number_sections": false,
      "sideBar": true,
      "skip_h1_title": true,
      "title_cell": "Table of Contents",
      "title_sidebar": "Contents",
      "toc_cell": false,
      "toc_position": {},
      "toc_section_display": true,
      "toc_window_display": false
    },
    "colab": {
      "name": "VSnake_classifier.ipynb",
      "provenance": [],
      "collapsed_sections": [],
      "toc_visible": true
    },
    "widgets": {
      "application/vnd.jupyter.widget-state+json": {
        "ec7d719649e04ab0ad30812242ee92e6": {
          "model_module": "@jupyter-widgets/controls",
          "model_name": "VBoxModel",
          "state": {
            "_view_name": "VBoxView",
            "_dom_classes": [],
            "_model_name": "VBoxModel",
            "_view_module": "@jupyter-widgets/controls",
            "_model_module_version": "1.5.0",
            "_view_count": null,
            "_view_module_version": "1.5.0",
            "box_style": "",
            "layout": "IPY_MODEL_4930d8d1888f45f08d7e06796f67161e",
            "_model_module": "@jupyter-widgets/controls",
            "children": [
              "IPY_MODEL_49229f1d967d4b9f8d4ca382e8da1195",
              "IPY_MODEL_de459cbfdb614cfca3229007456c74a2",
              "IPY_MODEL_c5302cde82e34370953d4724278c6735",
              "IPY_MODEL_035d152276324da1a206efd961166d8f"
            ]
          }
        },
        "4930d8d1888f45f08d7e06796f67161e": {
          "model_module": "@jupyter-widgets/base",
          "model_name": "LayoutModel",
          "state": {
            "_view_name": "LayoutView",
            "grid_template_rows": null,
            "right": null,
            "justify_content": null,
            "_view_module": "@jupyter-widgets/base",
            "overflow": null,
            "_model_module_version": "1.2.0",
            "_view_count": null,
            "flex_flow": null,
            "width": null,
            "min_width": null,
            "border": null,
            "align_items": null,
            "bottom": null,
            "_model_module": "@jupyter-widgets/base",
            "top": null,
            "grid_column": null,
            "overflow_y": null,
            "overflow_x": null,
            "grid_auto_flow": null,
            "grid_area": null,
            "grid_template_columns": null,
            "flex": null,
            "_model_name": "LayoutModel",
            "justify_items": null,
            "grid_row": null,
            "max_height": null,
            "align_content": null,
            "visibility": null,
            "align_self": null,
            "height": null,
            "min_height": null,
            "padding": null,
            "grid_auto_rows": null,
            "grid_gap": null,
            "max_width": null,
            "order": null,
            "_view_module_version": "1.2.0",
            "grid_template_areas": null,
            "object_position": null,
            "object_fit": null,
            "grid_auto_columns": null,
            "margin": null,
            "display": null,
            "left": null
          }
        },
        "49229f1d967d4b9f8d4ca382e8da1195": {
          "model_module": "@jupyter-widgets/controls",
          "model_name": "LabelModel",
          "state": {
            "_view_name": "LabelView",
            "style": "IPY_MODEL_a9fa0405e9f34d57b9461daec60a358e",
            "_dom_classes": [],
            "description": "",
            "_model_name": "LabelModel",
            "placeholder": "​",
            "_view_module": "@jupyter-widgets/controls",
            "_model_module_version": "1.5.0",
            "value": "Select your snake!",
            "_view_count": null,
            "_view_module_version": "1.5.0",
            "description_tooltip": null,
            "_model_module": "@jupyter-widgets/controls",
            "layout": "IPY_MODEL_be92aa4ef14d423d8d67f68d897c3122"
          }
        },
        "de459cbfdb614cfca3229007456c74a2": {
          "model_module": "@jupyter-widgets/controls",
          "model_name": "FileUploadModel",
          "state": {
            "_view_name": "FileUploadView",
            "_counter": 3,
            "style": "IPY_MODEL_176eee857e0c4f6cb4b9edc74ffdcbb2",
            "_dom_classes": [],
            "description": "Upload",
            "multiple": false,
            "_model_name": "FileUploadModel",
            "data": [
              null
            ],
            "button_style": "",
            "_view_module": "@jupyter-widgets/controls",
            "_model_module_version": "1.5.0",
            "accept": "",
            "_view_count": null,
            "disabled": false,
            "_view_module_version": "1.5.0",
            "error": "",
            "description_tooltip": null,
            "metadata": [
              {
                "name": "ven_snake.jpeg",
                "type": "image/jpeg",
                "size": 31189,
                "lastModified": 1598836935273
              }
            ],
            "_model_module": "@jupyter-widgets/controls",
            "layout": "IPY_MODEL_c23a1cd2979143fdbce25e1a0193a19b",
            "icon": "upload"
          }
        },
        "c5302cde82e34370953d4724278c6735": {
          "model_module": "@jupyter-widgets/output",
          "model_name": "OutputModel",
          "state": {
            "_view_name": "OutputView",
            "msg_id": "",
            "_dom_classes": [],
            "_model_name": "OutputModel",
            "outputs": [
              {
                "output_type": "display_data",
                "metadata": {
                  "tags": []
                },
                "image/png": "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\n",
                "text/plain": "<PIL.Image.Image image mode=RGB size=128x103 at 0x7F11497E4EB8>"
              }
            ],
            "_view_module": "@jupyter-widgets/output",
            "_model_module_version": "1.0.0",
            "_view_count": null,
            "_view_module_version": "1.0.0",
            "layout": "IPY_MODEL_36cc7376a12547eab357e610e19b3e5e",
            "_model_module": "@jupyter-widgets/output"
          }
        },
        "035d152276324da1a206efd961166d8f": {
          "model_module": "@jupyter-widgets/controls",
          "model_name": "LabelModel",
          "state": {
            "_view_name": "LabelView",
            "style": "IPY_MODEL_2c199ea092624acbbb0f6a477b0cdc36",
            "_dom_classes": [],
            "description": "",
            "_model_name": "LabelModel",
            "placeholder": "​",
            "_view_module": "@jupyter-widgets/controls",
            "_model_module_version": "1.5.0",
            "value": "Prediction: venomous; Probability: 0.8241",
            "_view_count": null,
            "_view_module_version": "1.5.0",
            "description_tooltip": null,
            "_model_module": "@jupyter-widgets/controls",
            "layout": "IPY_MODEL_d4eeeefd7bc643e881751689fc3f69ed"
          }
        },
        "a9fa0405e9f34d57b9461daec60a358e": {
          "model_module": "@jupyter-widgets/controls",
          "model_name": "DescriptionStyleModel",
          "state": {
            "_view_name": "StyleView",
            "_model_name": "DescriptionStyleModel",
            "description_width": "",
            "_view_module": "@jupyter-widgets/base",
            "_model_module_version": "1.5.0",
            "_view_count": null,
            "_view_module_version": "1.2.0",
            "_model_module": "@jupyter-widgets/controls"
          }
        },
        "be92aa4ef14d423d8d67f68d897c3122": {
          "model_module": "@jupyter-widgets/base",
          "model_name": "LayoutModel",
          "state": {
            "_view_name": "LayoutView",
            "grid_template_rows": null,
            "right": null,
            "justify_content": null,
            "_view_module": "@jupyter-widgets/base",
            "overflow": null,
            "_model_module_version": "1.2.0",
            "_view_count": null,
            "flex_flow": null,
            "width": null,
            "min_width": null,
            "border": null,
            "align_items": null,
            "bottom": null,
            "_model_module": "@jupyter-widgets/base",
            "top": null,
            "grid_column": null,
            "overflow_y": null,
            "overflow_x": null,
            "grid_auto_flow": null,
            "grid_area": null,
            "grid_template_columns": null,
            "flex": null,
            "_model_name": "LayoutModel",
            "justify_items": null,
            "grid_row": null,
            "max_height": null,
            "align_content": null,
            "visibility": null,
            "align_self": null,
            "height": null,
            "min_height": null,
            "padding": null,
            "grid_auto_rows": null,
            "grid_gap": null,
            "max_width": null,
            "order": null,
            "_view_module_version": "1.2.0",
            "grid_template_areas": null,
            "object_position": null,
            "object_fit": null,
            "grid_auto_columns": null,
            "margin": null,
            "display": null,
            "left": null
          }
        },
        "176eee857e0c4f6cb4b9edc74ffdcbb2": {
          "model_module": "@jupyter-widgets/controls",
          "model_name": "ButtonStyleModel",
          "state": {
            "_view_name": "StyleView",
            "_model_name": "ButtonStyleModel",
            "_view_module": "@jupyter-widgets/base",
            "_model_module_version": "1.5.0",
            "_view_count": null,
            "button_color": null,
            "font_weight": "",
            "_view_module_version": "1.2.0",
            "_model_module": "@jupyter-widgets/controls"
          }
        },
        "c23a1cd2979143fdbce25e1a0193a19b": {
          "model_module": "@jupyter-widgets/base",
          "model_name": "LayoutModel",
          "state": {
            "_view_name": "LayoutView",
            "grid_template_rows": null,
            "right": null,
            "justify_content": null,
            "_view_module": "@jupyter-widgets/base",
            "overflow": null,
            "_model_module_version": "1.2.0",
            "_view_count": null,
            "flex_flow": null,
            "width": null,
            "min_width": null,
            "border": null,
            "align_items": null,
            "bottom": null,
            "_model_module": "@jupyter-widgets/base",
            "top": null,
            "grid_column": null,
            "overflow_y": null,
            "overflow_x": null,
            "grid_auto_flow": null,
            "grid_area": null,
            "grid_template_columns": null,
            "flex": null,
            "_model_name": "LayoutModel",
            "justify_items": null,
            "grid_row": null,
            "max_height": null,
            "align_content": null,
            "visibility": null,
            "align_self": null,
            "height": null,
            "min_height": null,
            "padding": null,
            "grid_auto_rows": null,
            "grid_gap": null,
            "max_width": null,
            "order": null,
            "_view_module_version": "1.2.0",
            "grid_template_areas": null,
            "object_position": null,
            "object_fit": null,
            "grid_auto_columns": null,
            "margin": null,
            "display": null,
            "left": null
          }
        },
        "2c199ea092624acbbb0f6a477b0cdc36": {
          "model_module": "@jupyter-widgets/controls",
          "model_name": "DescriptionStyleModel",
          "state": {
            "_view_name": "StyleView",
            "_model_name": "DescriptionStyleModel",
            "description_width": "",
            "_view_module": "@jupyter-widgets/base",
            "_model_module_version": "1.5.0",
            "_view_count": null,
            "_view_module_version": "1.2.0",
            "_model_module": "@jupyter-widgets/controls"
          }
        },
        "d4eeeefd7bc643e881751689fc3f69ed": {
          "model_module": "@jupyter-widgets/base",
          "model_name": "LayoutModel",
          "state": {
            "_view_name": "LayoutView",
            "grid_template_rows": null,
            "right": null,
            "justify_content": null,
            "_view_module": "@jupyter-widgets/base",
            "overflow": null,
            "_model_module_version": "1.2.0",
            "_view_count": null,
            "flex_flow": null,
            "width": null,
            "min_width": null,
            "border": null,
            "align_items": null,
            "bottom": null,
            "_model_module": "@jupyter-widgets/base",
            "top": null,
            "grid_column": null,
            "overflow_y": null,
            "overflow_x": null,
            "grid_auto_flow": null,
            "grid_area": null,
            "grid_template_columns": null,
            "flex": null,
            "_model_name": "LayoutModel",
            "justify_items": null,
            "grid_row": null,
            "max_height": null,
            "align_content": null,
            "visibility": null,
            "align_self": null,
            "height": null,
            "min_height": null,
            "padding": null,
            "grid_auto_rows": null,
            "grid_gap": null,
            "max_width": null,
            "order": null,
            "_view_module_version": "1.2.0",
            "grid_template_areas": null,
            "object_position": null,
            "object_fit": null,
            "grid_auto_columns": null,
            "margin": null,
            "display": null,
            "left": null
          }
        },
        "36cc7376a12547eab357e610e19b3e5e": {
          "model_module": "@jupyter-widgets/base",
          "model_name": "LayoutModel",
          "state": {
            "_view_name": "LayoutView",
            "grid_template_rows": null,
            "right": null,
            "justify_content": null,
            "_view_module": "@jupyter-widgets/base",
            "overflow": null,
            "_model_module_version": "1.2.0",
            "_view_count": null,
            "flex_flow": null,
            "width": null,
            "min_width": null,
            "border": null,
            "align_items": null,
            "bottom": null,
            "_model_module": "@jupyter-widgets/base",
            "top": null,
            "grid_column": null,
            "overflow_y": null,
            "overflow_x": null,
            "grid_auto_flow": null,
            "grid_area": null,
            "grid_template_columns": null,
            "flex": null,
            "_model_name": "LayoutModel",
            "justify_items": null,
            "grid_row": null,
            "max_height": null,
            "align_content": null,
            "visibility": null,
            "align_self": null,
            "height": null,
            "min_height": null,
            "padding": null,
            "grid_auto_rows": null,
            "grid_gap": null,
            "max_width": null,
            "order": null,
            "_view_module_version": "1.2.0",
            "grid_template_areas": null,
            "object_position": null,
            "object_fit": null,
            "grid_auto_columns": null,
            "margin": null,
            "display": null,
            "left": null
          }
        }
      }
    }
  },
  "cells": [
    {
      "cell_type": "code",
      "metadata": {
        "id": "_obzLVZ052H3",
        "colab_type": "code",
        "colab": {}
      },
      "source": [
        "#hide\n",
        "!pip install -Uqq fastbook\n",
        "import fastbook\n",
        "from fastbook import *\n",
        "from fastai.vision.all import *\n",
        "from fastai.vision.widgets import *"
      ],
      "execution_count": 2,
      "outputs": []
    },
    {
      "cell_type": "code",
      "metadata": {
        "id": "Kux_O4_ZHPfe",
        "colab_type": "code",
        "colab": {}
      },
      "source": [
        "!pip install voila\n",
        "!jupyter serverextension enable voila —sys-prefix"
      ],
      "execution_count": null,
      "outputs": []
    },
    {
      "cell_type": "markdown",
      "metadata": {
        "id": "FnboW7SM52H-",
        "colab_type": "text"
      },
      "source": [
        "# Venomous Snake Classifier!"
      ]
    },
    {
      "cell_type": "markdown",
      "metadata": {
        "id": "3RDhfbAE52IA",
        "colab_type": "text"
      },
      "source": [
        "Upon seeing a snake, if you want to know whether the snake is venomous or not, you may use this great web-tool. \n",
        "\n",
        "CAUTION! Please do note that this classifier is not a perfect one as it has classfied non-venomous snakes as venomous ones. Hence the classifier will detect most of the snakes to be venomous even if its not. While this may cause inconvinience to snake enthusiasts, an average Joe, would love to know if the snake in the backyard is approachable or not.  \n",
        "\n",
        "P.S.\n",
        "Also approach all snakes at your own peril :P \n",
        "\n",
        "----"
      ]
    },
    {
      "cell_type": "code",
      "metadata": {
        "id": "uNksHmyG52ID",
        "colab_type": "code",
        "colab": {}
      },
      "source": [
        "path = Path()\n",
        "learn_inf = load_learner(path/'venomous.pkl', cpu=True)\n",
        "btn_upload = widgets.FileUpload()\n",
        "out_pl = widgets.Output()\n",
        "lbl_pred = widgets.Label()"
      ],
      "execution_count": 12,
      "outputs": []
    },
    {
      "cell_type": "code",
      "metadata": {
        "id": "Fyw90iWf52IJ",
        "colab_type": "code",
        "colab": {}
      },
      "source": [
        "def on_data_change(change):\n",
        "    lbl_pred.value = ''\n",
        "    img = PILImage.create(btn_upload.data[-1])\n",
        "    out_pl.clear_output()\n",
        "    with out_pl: display(img.to_thumb(128,128))\n",
        "    pred,pred_idx,probs = learn_inf.predict(img)\n",
        "    lbl_pred.value = f'Prediction: {pred}; Probability: {probs[pred_idx]:.04f}'"
      ],
      "execution_count": 13,
      "outputs": []
    },
    {
      "cell_type": "code",
      "metadata": {
        "id": "K3cf936o52IN",
        "colab_type": "code",
        "colab": {}
      },
      "source": [
        "btn_upload.observe(on_data_change, names=['data'])"
      ],
      "execution_count": 14,
      "outputs": []
    },
    {
      "cell_type": "code",
      "metadata": {
        "scrolled": false,
        "id": "wMWAIRlg52IT",
        "colab_type": "code",
        "colab": {
          "base_uri": "https://localhost:8080/",
          "height": 216,
          "referenced_widgets": [
            "ec7d719649e04ab0ad30812242ee92e6",
            "4930d8d1888f45f08d7e06796f67161e",
            "49229f1d967d4b9f8d4ca382e8da1195",
            "de459cbfdb614cfca3229007456c74a2",
            "c5302cde82e34370953d4724278c6735",
            "035d152276324da1a206efd961166d8f",
            "a9fa0405e9f34d57b9461daec60a358e",
            "be92aa4ef14d423d8d67f68d897c3122",
            "176eee857e0c4f6cb4b9edc74ffdcbb2",
            "c23a1cd2979143fdbce25e1a0193a19b",
            "2c199ea092624acbbb0f6a477b0cdc36",
            "d4eeeefd7bc643e881751689fc3f69ed",
            "36cc7376a12547eab357e610e19b3e5e"
          ]
        },
        "outputId": "45edfb47-6ad6-4d45-b01a-9c2b927549d4"
      },
      "source": [
        "display(VBox([widgets.Label('Select your snake!'), btn_upload, out_pl, lbl_pred]))"
      ],
      "execution_count": 17,
      "outputs": [
        {
          "output_type": "display_data",
          "data": {
            "application/vnd.jupyter.widget-view+json": {
              "model_id": "ec7d719649e04ab0ad30812242ee92e6",
              "version_minor": 0,
              "version_major": 2
            },
            "text/plain": [
              "VBox(children=(Label(value='Select your snake!'), FileUpload(value={'ven_snake.jpeg': {'metadata': {'lastModif…"
            ]
          },
          "metadata": {
            "tags": []
          }
        }
      ]
    },
    {
      "cell_type": "code",
      "metadata": {
        "id": "wn8VTu_F52IZ",
        "colab_type": "code",
        "colab": {}
      },
      "source": [
        ""
      ],
      "execution_count": null,
      "outputs": []
    }
  ]
}