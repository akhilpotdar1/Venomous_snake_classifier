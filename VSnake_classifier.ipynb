{
  "nbformat": 4,
  "nbformat_minor": 0,
  "metadata": {
    "jupytext": {
      "split_at_heading": true
    },
    "kernelspec": {
      "display_name": "Python 3",
      "language": "python",
      "name": "python3"
    },
    "language_info": {
      "codemirror_mode": {
        "name": "ipython",
        "version": 3
      },
      "file_extension": ".py",
      "mimetype": "text/x-python",
      "name": "python",
      "nbconvert_exporter": "python",
      "pygments_lexer": "ipython3",
      "version": "3.7.7"
    },
    "toc": {
      "base_numbering": 1,
      "nav_menu": {},
      "number_sections": false,
      "sideBar": true,
      "skip_h1_title": true,
      "title_cell": "Table of Contents",
      "title_sidebar": "Contents",
      "toc_cell": false,
      "toc_position": {},
      "toc_section_display": true,
      "toc_window_display": false
    },
    "colab": {
      "name": "VSnake_classifier.ipynb",
      "provenance": [],
      "collapsed_sections": [],
      "toc_visible": true,
      "include_colab_link": true
    },
    "widgets": {
      "application/vnd.jupyter.widget-state+json": {
        "35ce5bfdd9624b6cba86babddd91aa49": {
          "model_module": "@jupyter-widgets/controls",
          "model_name": "VBoxModel",
          "state": {
            "_view_name": "VBoxView",
            "_dom_classes": [],
            "_model_name": "VBoxModel",
            "_view_module": "@jupyter-widgets/controls",
            "_model_module_version": "1.5.0",
            "_view_count": null,
            "_view_module_version": "1.5.0",
            "box_style": "",
            "layout": "IPY_MODEL_52e909e37b424909b3a8d6e56e7a0674",
            "_model_module": "@jupyter-widgets/controls",
            "children": [
              "IPY_MODEL_bb761077a5f74009a43ecdc78c07a131",
              "IPY_MODEL_202644afced04fe8a89fe2fa2a27fcd9",
              "IPY_MODEL_02c65a700318499a8ef3a528e335066d",
              "IPY_MODEL_8ba3d7f4a1d04ef1bfed40be0b67c3bc"
            ]
          }
        },
        "52e909e37b424909b3a8d6e56e7a0674": {
          "model_module": "@jupyter-widgets/base",
          "model_name": "LayoutModel",
          "state": {
            "_view_name": "LayoutView",
            "grid_template_rows": null,
            "right": null,
            "justify_content": null,
            "_view_module": "@jupyter-widgets/base",
            "overflow": null,
            "_model_module_version": "1.2.0",
            "_view_count": null,
            "flex_flow": null,
            "width": null,
            "min_width": null,
            "border": null,
            "align_items": null,
            "bottom": null,
            "_model_module": "@jupyter-widgets/base",
            "top": null,
            "grid_column": null,
            "overflow_y": null,
            "overflow_x": null,
            "grid_auto_flow": null,
            "grid_area": null,
            "grid_template_columns": null,
            "flex": null,
            "_model_name": "LayoutModel",
            "justify_items": null,
            "grid_row": null,
            "max_height": null,
            "align_content": null,
            "visibility": null,
            "align_self": null,
            "height": null,
            "min_height": null,
            "padding": null,
            "grid_auto_rows": null,
            "grid_gap": null,
            "max_width": null,
            "order": null,
            "_view_module_version": "1.2.0",
            "grid_template_areas": null,
            "object_position": null,
            "object_fit": null,
            "grid_auto_columns": null,
            "margin": null,
            "display": null,
            "left": null
          }
        },
        "bb761077a5f74009a43ecdc78c07a131": {
          "model_module": "@jupyter-widgets/controls",
          "model_name": "LabelModel",
          "state": {
            "_view_name": "LabelView",
            "style": "IPY_MODEL_1ff0d0a576b34a4789d56d9f0143cadb",
            "_dom_classes": [],
            "description": "",
            "_model_name": "LabelModel",
            "placeholder": "​",
            "_view_module": "@jupyter-widgets/controls",
            "_model_module_version": "1.5.0",
            "value": "Select your snake!",
            "_view_count": null,
            "_view_module_version": "1.5.0",
            "description_tooltip": null,
            "_model_module": "@jupyter-widgets/controls",
            "layout": "IPY_MODEL_a95b507c70614db19e442825b409bd36"
          }
        },
        "202644afced04fe8a89fe2fa2a27fcd9": {
          "model_module": "@jupyter-widgets/controls",
          "model_name": "FileUploadModel",
          "state": {
            "_view_name": "FileUploadView",
            "_counter": 2,
            "style": "IPY_MODEL_ff67c3d8c08d4f6093edda581f52238f",
            "_dom_classes": [],
            "description": "Upload",
            "multiple": false,
            "_model_name": "FileUploadModel",
            "data": [
              null
            ],
            "button_style": "",
            "_view_module": "@jupyter-widgets/controls",
            "_model_module_version": "1.5.0",
            "accept": "",
            "_view_count": null,
            "disabled": false,
            "_view_module_version": "1.5.0",
            "error": "",
            "description_tooltip": null,
            "metadata": [
              {
                "name": "grizly boy.jpg",
                "type": "image/jpeg",
                "size": 110664,
                "lastModified": 1598834039493
              }
            ],
            "_model_module": "@jupyter-widgets/controls",
            "layout": "IPY_MODEL_954ae82324b947c5a1b42188f4ef2ce4",
            "icon": "upload"
          }
        },
        "02c65a700318499a8ef3a528e335066d": {
          "model_module": "@jupyter-widgets/output",
          "model_name": "OutputModel",
          "state": {
            "_view_name": "OutputView",
            "msg_id": "",
            "_dom_classes": [],
            "_model_name": "OutputModel",
            "outputs": [
              {
                "output_type": "display_data",
                "metadata": {
                  "tags": []
                },
                "image/png": "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\n",
                "text/plain": "<PIL.Image.Image image mode=RGB size=128x85 at 0x7F8130833240>"
              }
            ],
            "_view_module": "@jupyter-widgets/output",
            "_model_module_version": "1.0.0",
            "_view_count": null,
            "_view_module_version": "1.0.0",
            "layout": "IPY_MODEL_500ee3d6cf1147ab8476be2f08ed2006",
            "_model_module": "@jupyter-widgets/output"
          }
        },
        "8ba3d7f4a1d04ef1bfed40be0b67c3bc": {
          "model_module": "@jupyter-widgets/controls",
          "model_name": "LabelModel",
          "state": {
            "_view_name": "LabelView",
            "style": "IPY_MODEL_07f47c0d33784e0d9c4029891fb1e211",
            "_dom_classes": [],
            "description": "",
            "_model_name": "LabelModel",
            "placeholder": "​",
            "_view_module": "@jupyter-widgets/controls",
            "_model_module_version": "1.5.0",
            "value": "Prediction: venomous; Probability: 0.5264",
            "_view_count": null,
            "_view_module_version": "1.5.0",
            "description_tooltip": null,
            "_model_module": "@jupyter-widgets/controls",
            "layout": "IPY_MODEL_07ac391e17fa4d8fbef00fc9ad926cb5"
          }
        },
        "1ff0d0a576b34a4789d56d9f0143cadb": {
          "model_module": "@jupyter-widgets/controls",
          "model_name": "DescriptionStyleModel",
          "state": {
            "_view_name": "StyleView",
            "_model_name": "DescriptionStyleModel",
            "description_width": "",
            "_view_module": "@jupyter-widgets/base",
            "_model_module_version": "1.5.0",
            "_view_count": null,
            "_view_module_version": "1.2.0",
            "_model_module": "@jupyter-widgets/controls"
          }
        },
        "a95b507c70614db19e442825b409bd36": {
          "model_module": "@jupyter-widgets/base",
          "model_name": "LayoutModel",
          "state": {
            "_view_name": "LayoutView",
            "grid_template_rows": null,
            "right": null,
            "justify_content": null,
            "_view_module": "@jupyter-widgets/base",
            "overflow": null,
            "_model_module_version": "1.2.0",
            "_view_count": null,
            "flex_flow": null,
            "width": null,
            "min_width": null,
            "border": null,
            "align_items": null,
            "bottom": null,
            "_model_module": "@jupyter-widgets/base",
            "top": null,
            "grid_column": null,
            "overflow_y": null,
            "overflow_x": null,
            "grid_auto_flow": null,
            "grid_area": null,
            "grid_template_columns": null,
            "flex": null,
            "_model_name": "LayoutModel",
            "justify_items": null,
            "grid_row": null,
            "max_height": null,
            "align_content": null,
            "visibility": null,
            "align_self": null,
            "height": null,
            "min_height": null,
            "padding": null,
            "grid_auto_rows": null,
            "grid_gap": null,
            "max_width": null,
            "order": null,
            "_view_module_version": "1.2.0",
            "grid_template_areas": null,
            "object_position": null,
            "object_fit": null,
            "grid_auto_columns": null,
            "margin": null,
            "display": null,
            "left": null
          }
        },
        "ff67c3d8c08d4f6093edda581f52238f": {
          "model_module": "@jupyter-widgets/controls",
          "model_name": "ButtonStyleModel",
          "state": {
            "_view_name": "StyleView",
            "_model_name": "ButtonStyleModel",
            "_view_module": "@jupyter-widgets/base",
            "_model_module_version": "1.5.0",
            "_view_count": null,
            "button_color": null,
            "font_weight": "",
            "_view_module_version": "1.2.0",
            "_model_module": "@jupyter-widgets/controls"
          }
        },
        "954ae82324b947c5a1b42188f4ef2ce4": {
          "model_module": "@jupyter-widgets/base",
          "model_name": "LayoutModel",
          "state": {
            "_view_name": "LayoutView",
            "grid_template_rows": null,
            "right": null,
            "justify_content": null,
            "_view_module": "@jupyter-widgets/base",
            "overflow": null,
            "_model_module_version": "1.2.0",
            "_view_count": null,
            "flex_flow": null,
            "width": null,
            "min_width": null,
            "border": null,
            "align_items": null,
            "bottom": null,
            "_model_module": "@jupyter-widgets/base",
            "top": null,
            "grid_column": null,
            "overflow_y": null,
            "overflow_x": null,
            "grid_auto_flow": null,
            "grid_area": null,
            "grid_template_columns": null,
            "flex": null,
            "_model_name": "LayoutModel",
            "justify_items": null,
            "grid_row": null,
            "max_height": null,
            "align_content": null,
            "visibility": null,
            "align_self": null,
            "height": null,
            "min_height": null,
            "padding": null,
            "grid_auto_rows": null,
            "grid_gap": null,
            "max_width": null,
            "order": null,
            "_view_module_version": "1.2.0",
            "grid_template_areas": null,
            "object_position": null,
            "object_fit": null,
            "grid_auto_columns": null,
            "margin": null,
            "display": null,
            "left": null
          }
        },
        "07f47c0d33784e0d9c4029891fb1e211": {
          "model_module": "@jupyter-widgets/controls",
          "model_name": "DescriptionStyleModel",
          "state": {
            "_view_name": "StyleView",
            "_model_name": "DescriptionStyleModel",
            "description_width": "",
            "_view_module": "@jupyter-widgets/base",
            "_model_module_version": "1.5.0",
            "_view_count": null,
            "_view_module_version": "1.2.0",
            "_model_module": "@jupyter-widgets/controls"
          }
        },
        "07ac391e17fa4d8fbef00fc9ad926cb5": {
          "model_module": "@jupyter-widgets/base",
          "model_name": "LayoutModel",
          "state": {
            "_view_name": "LayoutView",
            "grid_template_rows": null,
            "right": null,
            "justify_content": null,
            "_view_module": "@jupyter-widgets/base",
            "overflow": null,
            "_model_module_version": "1.2.0",
            "_view_count": null,
            "flex_flow": null,
            "width": null,
            "min_width": null,
            "border": null,
            "align_items": null,
            "bottom": null,
            "_model_module": "@jupyter-widgets/base",
            "top": null,
            "grid_column": null,
            "overflow_y": null,
            "overflow_x": null,
            "grid_auto_flow": null,
            "grid_area": null,
            "grid_template_columns": null,
            "flex": null,
            "_model_name": "LayoutModel",
            "justify_items": null,
            "grid_row": null,
            "max_height": null,
            "align_content": null,
            "visibility": null,
            "align_self": null,
            "height": null,
            "min_height": null,
            "padding": null,
            "grid_auto_rows": null,
            "grid_gap": null,
            "max_width": null,
            "order": null,
            "_view_module_version": "1.2.0",
            "grid_template_areas": null,
            "object_position": null,
            "object_fit": null,
            "grid_auto_columns": null,
            "margin": null,
            "display": null,
            "left": null
          }
        },
        "500ee3d6cf1147ab8476be2f08ed2006": {
          "model_module": "@jupyter-widgets/base",
          "model_name": "LayoutModel",
          "state": {
            "_view_name": "LayoutView",
            "grid_template_rows": null,
            "right": null,
            "justify_content": null,
            "_view_module": "@jupyter-widgets/base",
            "overflow": null,
            "_model_module_version": "1.2.0",
            "_view_count": null,
            "flex_flow": null,
            "width": null,
            "min_width": null,
            "border": null,
            "align_items": null,
            "bottom": null,
            "_model_module": "@jupyter-widgets/base",
            "top": null,
            "grid_column": null,
            "overflow_y": null,
            "overflow_x": null,
            "grid_auto_flow": null,
            "grid_area": null,
            "grid_template_columns": null,
            "flex": null,
            "_model_name": "LayoutModel",
            "justify_items": null,
            "grid_row": null,
            "max_height": null,
            "align_content": null,
            "visibility": null,
            "align_self": null,
            "height": null,
            "min_height": null,
            "padding": null,
            "grid_auto_rows": null,
            "grid_gap": null,
            "max_width": null,
            "order": null,
            "_view_module_version": "1.2.0",
            "grid_template_areas": null,
            "object_position": null,
            "object_fit": null,
            "grid_auto_columns": null,
            "margin": null,
            "display": null,
            "left": null
          }
        }
      }
    }
  },
  "cells": [
    {
      "cell_type": "markdown",
      "metadata": {
        "id": "view-in-github",
        "colab_type": "text"
      },
      "source": [
        "<a href=\"https://colab.research.google.com/github/akhilpotdar1/Venomous_snake_classifier/blob/master/VSnake_classifier.ipynb\" target=\"_parent\"><img src=\"https://colab.research.google.com/assets/colab-badge.svg\" alt=\"Open In Colab\"/></a>"
      ]
    },
    {
      "cell_type": "code",
      "metadata": {
        "id": "_obzLVZ052H3",
        "colab_type": "code",
        "colab": {}
      },
      "source": [
        "#hide\n",
        "!pip install -Uqq fastbook\n",
        "import fastbook\n",
        "from fastbook import *\n",
        "from fastai.vision.all import *\n",
        "from fastai.vision.widgets import *"
      ],
      "execution_count": 1,
      "outputs": []
    },
    {
      "cell_type": "code",
      "metadata": {
        "id": "Kux_O4_ZHPfe",
        "colab_type": "code",
        "colab": {}
      },
      "source": [
        "# !pip install voila\n",
        "# !jupyter serverextension enable voila —sys-prefix"
      ],
      "execution_count": null,
      "outputs": []
    },
    {
      "cell_type": "markdown",
      "metadata": {
        "id": "FnboW7SM52H-",
        "colab_type": "text"
      },
      "source": [
        "# Venomous Snake Classifier!"
      ]
    },
    {
      "cell_type": "markdown",
      "metadata": {
        "id": "3RDhfbAE52IA",
        "colab_type": "text"
      },
      "source": [
        "Upon seeing a snake, if you want to know whether the snake is venomous or not, you may use this great web-tool. \n",
        "\n",
        "CAUTION! Please do note that this classifier is not a perfect one as it has classfied non-venomous snakes as venomous ones. Hence the classifier will detect most of the snakes to be venomous even if its not. While this may cause inconvinience to snake enthusiasts, an average Joe, would love to know if the snake in the backyard is approachable or not.  \n",
        "\n",
        "P.S.\n",
        "Also approach all snakes at your own peril :P \n",
        "\n",
        "----"
      ]
    },
    {
      "cell_type": "code",
      "metadata": {
        "id": "uNksHmyG52ID",
        "colab_type": "code",
        "colab": {}
      },
      "source": [
        "path = Path()\n",
        "learn_inf = load_learner(path/'venomous.pkl', cpu=True)\n",
        "btn_upload = widgets.FileUpload()\n",
        "out_pl = widgets.Output()\n",
        "lbl_pred = widgets.Label()"
      ],
      "execution_count": 2,
      "outputs": []
    },
    {
      "cell_type": "code",
      "metadata": {
        "id": "Fyw90iWf52IJ",
        "colab_type": "code",
        "colab": {}
      },
      "source": [
        "def on_data_change(change):\n",
        "    lbl_pred.value = ''\n",
        "    img = PILImage.create(btn_upload.data[-1])\n",
        "    out_pl.clear_output()\n",
        "    with out_pl: display(img.to_thumb(128,128))\n",
        "    pred,pred_idx,probs = learn_inf.predict(img)\n",
        "    lbl_pred.value = f'Prediction: {pred}; Probability: {probs[pred_idx]:.04f}'"
      ],
      "execution_count": 3,
      "outputs": []
    },
    {
      "cell_type": "code",
      "metadata": {
        "id": "K3cf936o52IN",
        "colab_type": "code",
        "colab": {}
      },
      "source": [
        "btn_upload.observe(on_data_change, names=['data'])"
      ],
      "execution_count": 4,
      "outputs": []
    },
    {
      "cell_type": "code",
      "metadata": {
        "scrolled": false,
        "id": "wMWAIRlg52IT",
        "colab_type": "code",
        "colab": {
          "base_uri": "https://localhost:8080/",
          "height": 198,
          "referenced_widgets": [
            "35ce5bfdd9624b6cba86babddd91aa49",
            "52e909e37b424909b3a8d6e56e7a0674",
            "bb761077a5f74009a43ecdc78c07a131",
            "202644afced04fe8a89fe2fa2a27fcd9",
            "02c65a700318499a8ef3a528e335066d",
            "8ba3d7f4a1d04ef1bfed40be0b67c3bc",
            "1ff0d0a576b34a4789d56d9f0143cadb",
            "a95b507c70614db19e442825b409bd36",
            "ff67c3d8c08d4f6093edda581f52238f",
            "954ae82324b947c5a1b42188f4ef2ce4",
            "07f47c0d33784e0d9c4029891fb1e211",
            "07ac391e17fa4d8fbef00fc9ad926cb5",
            "500ee3d6cf1147ab8476be2f08ed2006"
          ]
        },
        "outputId": "bd7312b2-c8ed-41b3-c7d1-57c9b9facfdb"
      },
      "source": [
        "display(VBox([widgets.Label('Select your snake!'), btn_upload, out_pl, lbl_pred]))"
      ],
      "execution_count": 7,
      "outputs": [
        {
          "output_type": "display_data",
          "data": {
            "application/vnd.jupyter.widget-view+json": {
              "model_id": "35ce5bfdd9624b6cba86babddd91aa49",
              "version_minor": 0,
              "version_major": 2
            },
            "text/plain": [
              "VBox(children=(Label(value='Select your snake!'), FileUpload(value={'ven_snake.jpeg': {'metadata': {'lastModif…"
            ]
          },
          "metadata": {
            "tags": []
          }
        },
        {
          "output_type": "display_data",
          "data": {
            "text/html": [
              ""
            ],
            "text/plain": [
              "<IPython.core.display.HTML object>"
            ]
          },
          "metadata": {
            "tags": []
          }
        }
      ]
    },
    {
      "cell_type": "code",
      "metadata": {
        "id": "wn8VTu_F52IZ",
        "colab_type": "code",
        "colab": {}
      },
      "source": [
        ""
      ],
      "execution_count": 6,
      "outputs": []
    }
  ]
}